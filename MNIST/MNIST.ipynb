{
 "cells": [
  {
   "cell_type": "code",
   "execution_count": 1,
   "metadata": {
    "colab": {},
    "colab_type": "code",
    "executionInfo": {
     "elapsed": 1373,
     "status": "ok",
     "timestamp": 1598355462083,
     "user": {
      "displayName": "Dean Zhou",
      "photoUrl": "https://lh3.googleusercontent.com/a-/AOh14GiYWPOqyUXTIQZxYT09czfOmSZ02UQJ4KosRA0UgA=s64",
      "userId": "06760851346187414551"
     },
     "user_tz": 300
    },
    "id": "_qXH5bU0vTZq"
   },
   "outputs": [],
   "source": [
    "import torch\n",
    "import torchvision\n",
    "import torchvision.transforms as transforms\n",
    "\n",
    "import time"
   ]
  },
  {
   "cell_type": "code",
   "execution_count": 2,
   "metadata": {
    "colab": {},
    "colab_type": "code",
    "executionInfo": {
     "elapsed": 1366,
     "status": "ok",
     "timestamp": 1598355462085,
     "user": {
      "displayName": "Dean Zhou",
      "photoUrl": "https://lh3.googleusercontent.com/a-/AOh14GiYWPOqyUXTIQZxYT09czfOmSZ02UQJ4KosRA0UgA=s64",
      "userId": "06760851346187414551"
     },
     "user_tz": 300
    },
    "id": "aj5bgPa9vTZz"
   },
   "outputs": [],
   "source": [
    "transform = transforms.Compose(\n",
    "    [transforms.ToTensor(),\n",
    "     transforms.Normalize((0.5), (0.5))])\n",
    "\n",
    "\n",
    "trainset = torchvision.datasets.MNIST(root='./data', train=True,\n",
    "                                        download=True, transform=transform)\n",
    "\n",
    "trainloader = torch.utils.data.DataLoader(trainset, batch_size=4,\n",
    "                                          shuffle=True, num_workers=2)\n",
    "\n",
    "testset = torchvision.datasets.MNIST(root='./data', train=False,\n",
    "                                       download=True, transform=transform)\n",
    "\n",
    "testloader = torch.utils.data.DataLoader(testset, batch_size=4,\n",
    "                                         shuffle=False, num_workers=2)\n",
    "\n",
    "classes = ('0', '1', '2', '3', '4', '5', '6', '7', '8', '9')"
   ]
  },
  {
   "cell_type": "code",
   "execution_count": 3,
   "metadata": {
    "colab": {
     "base_uri": "https://localhost:8080/",
     "height": 51
    },
    "colab_type": "code",
    "executionInfo": {
     "elapsed": 32783,
     "status": "ok",
     "timestamp": 1598355493507,
     "user": {
      "displayName": "Dean Zhou",
      "photoUrl": "https://lh3.googleusercontent.com/a-/AOh14GiYWPOqyUXTIQZxYT09czfOmSZ02UQJ4KosRA0UgA=s64",
      "userId": "06760851346187414551"
     },
     "user_tz": 300
    },
    "id": "p5nBStZi05rJ",
    "outputId": "5feeb124-d5d7-486d-fca5-1cb19b2da6f8"
   },
   "outputs": [
    {
     "name": "stdout",
     "output_type": "stream",
     "text": [
      "tensor([-0.7387]) tensor([0.6030])\n",
      "tensor([-0.7350]) tensor([0.6077])\n"
     ]
    }
   ],
   "source": [
    "mean = 0.\n",
    "std = 0.\n",
    "for images, _ in trainloader:\n",
    "    batch_samples = images.size(0) # batch size (the last batch can have smaller size!)\n",
    "    images = images.view(batch_samples, images.size(1), -1)\n",
    "    mean += images.mean(2).sum(0)\n",
    "    std += images.std(2).sum(0)\n",
    "\n",
    "mean /= len(trainloader.dataset)\n",
    "std /= len(trainloader.dataset)\n",
    "\n",
    "print(mean, std)\n",
    "\n",
    "\n",
    "mean = 0.\n",
    "std = 0.\n",
    "for images, _ in testloader:\n",
    "    batch_samples = images.size(0) # batch size (the last batch can have smaller size!)\n",
    "    images = images.view(batch_samples, images.size(1), -1)\n",
    "    mean += images.mean(2).sum(0)\n",
    "    std += images.std(2).sum(0)\n",
    "\n",
    "mean /= len(testloader.dataset)\n",
    "std /= len(testloader.dataset)\n",
    "\n",
    "print(mean, std)"
   ]
  },
  {
   "cell_type": "code",
   "execution_count": 4,
   "metadata": {
    "colab": {
     "base_uri": "https://localhost:8080/",
     "height": 155
    },
    "colab_type": "code",
    "executionInfo": {
     "elapsed": 32777,
     "status": "ok",
     "timestamp": 1598355493508,
     "user": {
      "displayName": "Dean Zhou",
      "photoUrl": "https://lh3.googleusercontent.com/a-/AOh14GiYWPOqyUXTIQZxYT09czfOmSZ02UQJ4KosRA0UgA=s64",
      "userId": "06760851346187414551"
     },
     "user_tz": 300
    },
    "id": "ggzD0Yft05rM",
    "outputId": "19640ab1-8706-4a28-d255-075b05b2b284"
   },
   "outputs": [
    {
     "data": {
      "image/png": "[encoded data removed]",
      "text/plain": [
       "<Figure size 432x288 with 1 Axes>"
      ]
     },
     "metadata": {
      "needs_background": "light"
     },
     "output_type": "display_data"
    },
    {
     "name": "stdout",
     "output_type": "stream",
     "text": [
      "    8     3     3     1\n"
     ]
    }
   ],
   "source": [
    "import matplotlib.pyplot as plt\n",
    "import numpy as np\n",
    "\n",
    "# functions to show an image\n",
    "\n",
    "\n",
    "def imshow(img):\n",
    "    img = img / 2 + 0.5     # unnormalize\n",
    "    npimg = img.numpy()\n",
    "    plt.imshow(np.transpose(npimg, (1, 2, 0)))\n",
    "    plt.show()\n",
    "\n",
    "\n",
    "# get some random training images\n",
    "\n",
    "trainloader = torch.utils.data.DataLoader(trainset, batch_size=4,\n",
    "                                          shuffle=True, num_workers=2)\n",
    "\n",
    "dataiter = iter(trainloader)\n",
    "images, labels = dataiter.next()\n",
    "\n",
    "# show images\n",
    "imshow(torchvision.utils.make_grid(images))\n",
    "# print labels\n",
    "print(' '.join('%5s' % classes[labels[j]] for j in range(4)))\n",
    "\n",
    "trainloader = torch.utils.data.DataLoader(trainset, batch_size=4,\n",
    "                                          shuffle=True, num_workers=2)"
   ]
  },
  {
   "cell_type": "code",
   "execution_count": 5,
   "metadata": {
    "colab": {},
    "colab_type": "code",
    "executionInfo": {
     "elapsed": 32772,
     "status": "ok",
     "timestamp": 1598355493509,
     "user": {
      "displayName": "Dean Zhou",
      "photoUrl": "https://lh3.googleusercontent.com/a-/AOh14GiYWPOqyUXTIQZxYT09czfOmSZ02UQJ4KosRA0UgA=s64",
      "userId": "06760851346187414551"
     },
     "user_tz": 300
    },
    "id": "0TgOiPTcvTZ5"
   },
   "outputs": [],
   "source": [
    "import torch.nn as nn\n",
    "import torch.nn.functional as F\n",
    "import torchvision.models as models\n",
    "\n",
    "class Net(nn.Module):\n",
    "    def __init__(self):\n",
    "        super(Net, self).__init__()\n",
    "        self.conv1 = nn.Conv2d(1, 6, 5)\n",
    "        self.pool = nn.MaxPool2d(2, 2)\n",
    "        self.conv2 = nn.Conv2d(6, 16, 5)\n",
    "        self.fc1 = nn.Linear(256, 120)\n",
    "        self.fc2 = nn.Linear(120, 84)\n",
    "        self.fc3 = nn.Linear(84, 10)\n",
    "\n",
    "    def forward(self, x):\n",
    "        x = self.pool(F.relu(self.conv1(x)))\n",
    "        x = self.pool(F.relu(self.conv2(x)))\n",
    "        x = x.view(-1, 256)\n",
    "        x = F.relu(self.fc1(x))\n",
    "        x = F.relu(self.fc2(x))\n",
    "        x = self.fc3(x)\n",
    "        return x\n",
    "\n",
    "net = Net()\n",
    "#Check if freezing works\n",
    "#print(list(filter(lambda p: p.requires_grad, net.parameters())))"
   ]
  },
  {
   "cell_type": "code",
   "execution_count": 6,
   "metadata": {
    "colab": {},
    "colab_type": "code",
    "executionInfo": {
     "elapsed": 32768,
     "status": "ok",
     "timestamp": 1598355493510,
     "user": {
      "displayName": "Dean Zhou",
      "photoUrl": "https://lh3.googleusercontent.com/a-/AOh14GiYWPOqyUXTIQZxYT09czfOmSZ02UQJ4KosRA0UgA=s64",
      "userId": "06760851346187414551"
     },
     "user_tz": 300
    },
    "id": "TEgTWb0wvTZ-"
   },
   "outputs": [],
   "source": [
    "import torch.optim as optim\n",
    "\n",
    "criterion = nn.CrossEntropyLoss()\n",
    "optimizer = optim.SGD(net.parameters(), lr=0.001, momentum=0.9) #Don't know if you have to have filter\n",
    "#optimizer = optim.Adam(filter(lambda p: p.requires_grad, net.parameters()), lr=0.0001)"
   ]
  },
  {
   "cell_type": "code",
   "execution_count": 7,
   "metadata": {
    "colab": {
     "base_uri": "https://localhost:8080/",
     "height": 170
    },
    "colab_type": "code",
    "executionInfo": {
     "elapsed": 40765,
     "status": "ok",
     "timestamp": 1598355501512,
     "user": {
      "displayName": "Dean Zhou",
      "photoUrl": "https://lh3.googleusercontent.com/a-/AOh14GiYWPOqyUXTIQZxYT09czfOmSZ02UQJ4KosRA0UgA=s64",
      "userId": "06760851346187414551"
     },
     "user_tz": 300
    },
    "id": "e8oZ5rcXvTaD",
    "outputId": "348dc11b-e89a-45d3-97e1-5253f568c848"
   },
   "outputs": [
    {
     "name": "stdout",
     "output_type": "stream",
     "text": [
      "cuda:0\n"
     ]
    },
    {
     "data": {
      "text/plain": [
       "Net(\n",
       "  (conv1): Conv2d(1, 6, kernel_size=(5, 5), stride=(1, 1))\n",
       "  (pool): MaxPool2d(kernel_size=2, stride=2, padding=0, dilation=1, ceil_mode=False)\n",
       "  (conv2): Conv2d(6, 16, kernel_size=(5, 5), stride=(1, 1))\n",
       "  (fc1): Linear(in_features=256, out_features=120, bias=True)\n",
       "  (fc2): Linear(in_features=120, out_features=84, bias=True)\n",
       "  (fc3): Linear(in_features=84, out_features=10, bias=True)\n",
       ")"
      ]
     },
     "execution_count": 7,
     "metadata": {},
     "output_type": "execute_result"
    }
   ],
   "source": [
    "device = torch.device(\"cuda:0\" if torch.cuda.is_available() else \"cpu\")\n",
    "\n",
    "# Assuming that we are on a CUDA machine, this should print a CUDA device:\n",
    "\n",
    "print(device)\n",
    "#torch.cuda.device_count()\n",
    "net.to(device)"
   ]
  },
  {
   "cell_type": "code",
   "execution_count": 8,
   "metadata": {
    "colab": {
     "base_uri": "https://localhost:8080/",
     "height": 493
    },
    "colab_type": "code",
    "executionInfo": {
     "elapsed": 246010,
     "status": "ok",
     "timestamp": 1598355706761,
     "user": {
      "displayName": "Dean Zhou",
      "photoUrl": "https://lh3.googleusercontent.com/a-/AOh14GiYWPOqyUXTIQZxYT09czfOmSZ02UQJ4KosRA0UgA=s64",
      "userId": "06760851346187414551"
     },
     "user_tz": 300
    },
    "id": "zkdsfj0evTaO",
    "outputId": "0ed99377-17cf-4f3f-b251-f73811453d1c"
   },
   "outputs": [
    {
     "name": "stdout",
     "output_type": "stream",
     "text": [
      "15000\n",
      "[1,  2000] loss: 1.315\n",
      "Train accuracy: 55 %\n",
      "[1,  4000] loss: 0.227\n",
      "Train accuracy: 92 %\n",
      "[1,  6000] loss: 0.141\n",
      "Train accuracy: 95 %\n",
      "[1,  8000] loss: 0.134\n",
      "Train accuracy: 95 %\n",
      "[1, 10000] loss: 0.105\n",
      "Train accuracy: 96 %\n",
      "[1, 12000] loss: 0.095\n",
      "Train accuracy: 97 %\n",
      "[1, 14000] loss: 0.083\n",
      "Train accuracy: 97 %\n",
      "Finished Training\n",
      "--- 52.725425243377686 seconds ---\n",
      "--- 52.72552180290222 seconds/epoc ---\n"
     ]
    }
   ],
   "source": [
    "numEpoch = 1\n",
    "start_time = time.time()\n",
    "\n",
    "for epoch in range(numEpoch):  # loop over the dataset multiple times\n",
    "\n",
    "    running_loss = 0.0\n",
    "    size = len(trainloader)\n",
    "    print(size)\n",
    "    size = 2000\n",
    "    running_correct = 0\n",
    "    running_total = 0\n",
    "    for i, data in enumerate(trainloader, 0):\n",
    "        correct = 0\n",
    "        total = 0\n",
    "        # get the inputs; data is a list of [inputs, labels]\n",
    "        inputs, labels = data[0].to(device), data[1].to(device)\n",
    "\n",
    "        # zero the parameter gradients\n",
    "        optimizer.zero_grad()\n",
    "\n",
    "        # forward + backward + optimize\n",
    "        outputs = net(inputs)\n",
    "        loss = criterion(outputs, labels)\n",
    "        loss.backward()\n",
    "        optimizer.step()\n",
    "        \n",
    "        _, predicted = torch.max(outputs.data, 1)\n",
    "        total += labels.size(0)\n",
    "        correct += (predicted == labels).sum().item()\n",
    "        \n",
    "        running_total += total\n",
    "        running_correct += correct\n",
    "\n",
    "        # print statistics\n",
    "        running_loss += loss.item()\n",
    "        if i % size == size-1:    # print every 2000 batch\n",
    "            print('[%d, %5d] loss: %.3f' %\n",
    "                  (epoch + 1, i + 1, running_loss / size))\n",
    "            running_loss = 0.0\n",
    "            \n",
    "            print('Train accuracy: %d %%' % (\n",
    "    100 * running_correct / running_total))\n",
    "            running_correct = 0\n",
    "            running_total = 0\n",
    "\n",
    "print('Finished Training')\n",
    "\n",
    "print(\"--- %s seconds ---\" % (time.time() - start_time))\n",
    "print (\"--- %s seconds/epoc ---\" % ((time.time() - start_time)/numEpoch))"
   ]
  },
  {
   "cell_type": "code",
   "execution_count": 9,
   "metadata": {
    "colab": {},
    "colab_type": "code",
    "executionInfo": {
     "elapsed": 246010,
     "status": "ok",
     "timestamp": 1598355706767,
     "user": {
      "displayName": "Dean Zhou",
      "photoUrl": "https://lh3.googleusercontent.com/a-/AOh14GiYWPOqyUXTIQZxYT09czfOmSZ02UQJ4KosRA0UgA=s64",
      "userId": "06760851346187414551"
     },
     "user_tz": 300
    },
    "id": "vz7ehjLz05rY"
   },
   "outputs": [],
   "source": [
    "PATH = './MNIST.pth'"
   ]
  },
  {
   "cell_type": "code",
   "execution_count": 10,
   "metadata": {
    "colab": {},
    "colab_type": "code",
    "executionInfo": {
     "elapsed": 246005,
     "status": "ok",
     "timestamp": 1598355706767,
     "user": {
      "displayName": "Dean Zhou",
      "photoUrl": "https://lh3.googleusercontent.com/a-/AOh14GiYWPOqyUXTIQZxYT09czfOmSZ02UQJ4KosRA0UgA=s64",
      "userId": "06760851346187414551"
     },
     "user_tz": 300
    },
    "id": "BD4VFYWsvTaX"
   },
   "outputs": [],
   "source": [
    "torch.save(net.state_dict(), PATH)"
   ]
  },
  {
   "cell_type": "code",
   "execution_count": 11,
   "metadata": {
    "colab": {
     "base_uri": "https://localhost:8080/",
     "height": 34
    },
    "colab_type": "code",
    "executionInfo": {
     "elapsed": 246001,
     "status": "ok",
     "timestamp": 1598355706768,
     "user": {
      "displayName": "Dean Zhou",
      "photoUrl": "https://lh3.googleusercontent.com/a-/AOh14GiYWPOqyUXTIQZxYT09czfOmSZ02UQJ4KosRA0UgA=s64",
      "userId": "06760851346187414551"
     },
     "user_tz": 300
    },
    "id": "Gb1Gjz3HvTac",
    "outputId": "b5f96127-f995-487a-e742-b76d925e6378"
   },
   "outputs": [
    {
     "data": {
      "text/plain": [
       "<All keys matched successfully>"
      ]
     },
     "execution_count": 11,
     "metadata": {},
     "output_type": "execute_result"
    }
   ],
   "source": [
    "net = Net()\n",
    "net.load_state_dict(torch.load(PATH))"
   ]
  },
  {
   "cell_type": "code",
   "execution_count": 12,
   "metadata": {
    "colab": {
     "base_uri": "https://localhost:8080/",
     "height": 255
    },
    "colab_type": "code",
    "executionInfo": {
     "elapsed": 261431,
     "status": "ok",
     "timestamp": 1598355722205,
     "user": {
      "displayName": "Dean Zhou",
      "photoUrl": "https://lh3.googleusercontent.com/a-/AOh14GiYWPOqyUXTIQZxYT09czfOmSZ02UQJ4KosRA0UgA=s64",
      "userId": "06760851346187414551"
     },
     "user_tz": 300
    },
    "id": "H7PYLHN8vTah",
    "outputId": "3ea172a4-3944-4c2b-80dd-fa3b25cf3790"
   },
   "outputs": [
    {
     "name": "stdout",
     "output_type": "stream",
     "text": [
      "Accuracy of the network on the test images: 97 %\n",
      "tensor([[ 976,    1,    1,    0,    0,    0,    0,    2,    0,    0],\n",
      "        [   0, 1131,    1,    1,    0,    0,    1,    1,    0,    0],\n",
      "        [  10,    2, 1012,    0,    4,    0,    0,    2,    2,    0],\n",
      "        [   4,    1,    8,  982,    0,    3,    0,    8,    2,    2],\n",
      "        [   0,    2,    0,    0,  972,    0,    0,    0,    0,    8],\n",
      "        [  10,    0,    0,    4,    0,  862,   10,    1,    1,    4],\n",
      "        [  13,    3,    0,    0,    5,    1,  936,    0,    0,    0],\n",
      "        [   1,    3,    7,    0,    0,    0,    0, 1011,    1,    5],\n",
      "        [  18,    2,    4,    2,    5,    0,    4,    3,  926,   10],\n",
      "        [   6,    3,    0,    4,    6,    2,    0,    6,    0,  982]],\n",
      "       dtype=torch.int32)\n",
      "--- 4.727086067199707 seconds ---\n",
      "--- 0.0004727199077606201 seconds/test ---\n"
     ]
    }
   ],
   "source": [
    "start_time = time.time()\n",
    "\n",
    "net.to(device)\n",
    "correct = 0\n",
    "total = 0\n",
    "\n",
    "nb_classes = 10\n",
    "confusion_matrix = torch.zeros(nb_classes, nb_classes)\n",
    "\n",
    "with torch.no_grad():\n",
    "    for data in testloader:\n",
    "        images, labels = data[0].to(device), data[1].to(device)\n",
    "        outputs = net(images)\n",
    "        _, predicted = torch.max(outputs.data, 1)\n",
    "        total += labels.size(0)\n",
    "        correct += (predicted == labels).sum().item()\n",
    "        \n",
    "        for t, p in zip(labels.view(-1), predicted.view(-1)):\n",
    "                confusion_matrix[t.long(), p.long()] += 1\n",
    "\n",
    "print('Accuracy of the network on the test images: %d %%' % (\n",
    "    100 * correct / total))\n",
    "print(confusion_matrix.int())\n",
    "\n",
    "print(\"--- %s seconds ---\" % (time.time() - start_time))\n",
    "print (\"--- %s seconds/test ---\" % ((time.time() - start_time)/total))"
   ]
  },
  {
   "cell_type": "code",
   "execution_count": 13,
   "metadata": {
    "colab": {
     "base_uri": "https://localhost:8080/",
     "height": 172
    },
    "colab_type": "code",
    "executionInfo": {
     "elapsed": 261744,
     "status": "ok",
     "timestamp": 1598355722523,
     "user": {
      "displayName": "Dean Zhou",
      "photoUrl": "https://lh3.googleusercontent.com/a-/AOh14GiYWPOqyUXTIQZxYT09czfOmSZ02UQJ4KosRA0UgA=s64",
      "userId": "06760851346187414551"
     },
     "user_tz": 300
    },
    "id": "6o1mBLJW05rg",
    "outputId": "c9c6bb58-1e5c-4260-d64d-7d4b8554b6e2"
   },
   "outputs": [
    {
     "data": {
      "image/png": "[encoded data removed]",
      "text/plain": [
       "<Figure size 432x288 with 1 Axes>"
      ]
     },
     "metadata": {
      "needs_background": "light"
     },
     "output_type": "display_data"
    },
    {
     "name": "stdout",
     "output_type": "stream",
     "text": [
      "GroundTruth:      2     7     1     2\n",
      "Predicted:      2     7     1     2\n"
     ]
    }
   ],
   "source": [
    "testloader = torch.utils.data.DataLoader(testset, batch_size=4,\n",
    "                                          shuffle=True, num_workers=0)\n",
    "\n",
    "dataiter = iter(testloader)\n",
    "images, labels = dataiter.next()\n",
    "\n",
    "# print images\n",
    "imshow(torchvision.utils.make_grid(images))\n",
    "print('GroundTruth: ', ' '.join('%5s' % classes[labels[j]] for j in range(4)))\n",
    "\n",
    "net = Net()\n",
    "net.load_state_dict(torch.load(PATH))\n",
    "outputs = net(images)\n",
    "_, predicted = torch.max(outputs, 1)\n",
    "\n",
    "print('Predicted: ', ' '.join('%5s' % classes[predicted[j]]\n",
    "                              for j in range(4)))"
   ]
  },
  {
   "cell_type": "code",
   "execution_count": null,
   "metadata": {
    "colab": {},
    "colab_type": "code",
    "executionInfo": {
     "elapsed": 261741,
     "status": "ok",
     "timestamp": 1598355722525,
     "user": {
      "displayName": "Dean Zhou",
      "photoUrl": "https://lh3.googleusercontent.com/a-/AOh14GiYWPOqyUXTIQZxYT09czfOmSZ02UQJ4KosRA0UgA=s64",
      "userId": "06760851346187414551"
     },
     "user_tz": 300
    },
    "id": "2d_10Mi205ri"
   },
   "outputs": [],
   "source": []
  }
 ],
 "metadata": {
  "accelerator": "GPU",
  "colab": {
   "collapsed_sections": [],
   "name": "MNIST.ipynb",
   "provenance": []
  },
  "kernelspec": {
   "display_name": "Python 3",
   "language": "python",
   "name": "python3"
  },
  "language_info": {
   "codemirror_mode": {
    "name": "ipython",
    "version": 3
   },
   "file_extension": ".py",
   "mimetype": "text/x-python",
   "name": "python",
   "nbconvert_exporter": "python",
   "pygments_lexer": "ipython3",
   "version": "3.8.2"
  }
 },
 "nbformat": 4,
 "nbformat_minor": 1
}
